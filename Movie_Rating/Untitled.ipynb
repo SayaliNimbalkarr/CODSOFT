{
 "cells": [
  {
   "cell_type": "markdown",
   "id": "94f46626-f022-4d56-8b40-2ca0cb22ce3b",
   "metadata": {},
   "source": [
    "1. Import Libraries"
   ]
  },
  {
   "cell_type": "code",
   "execution_count": 1,
   "id": "309f1dc3-8678-4046-bd90-2a2add792823",
   "metadata": {},
   "outputs": [],
   "source": [
    "import pandas as pd\n",
    "import numpy as np\n",
    "from sklearn.model_selection import train_test_split\n",
    "from sklearn.ensemble import RandomForestRegressor\n",
    "from sklearn.metrics import mean_squared_error, r2_score\n",
    "from sklearn.preprocessing import OneHotEncoder\n",
    "from sklearn.compose import ColumnTransformer\n",
    "from sklearn.pipeline import Pipeline\n",
    "import matplotlib.pyplot as plt\n"
   ]
  },
  {
   "cell_type": "markdown",
   "id": "33e4c816-42c0-453c-8855-4dc5f385b3dc",
   "metadata": {},
   "source": [
    "2. Load and Clean the Data"
   ]
  },
  {
   "cell_type": "code",
   "execution_count": 2,
   "id": "3c3e0ae9-1384-444b-ac17-a114363d96d4",
   "metadata": {},
   "outputs": [],
   "source": [
    "# Load the data with encoding fix\n",
    "df = pd.read_csv(\"MoviesIndia.csv\", encoding=\"latin1\")"
   ]
  },
  {
   "cell_type": "code",
   "execution_count": 3,
   "id": "96c9f924-00f9-456f-9b07-be1dfadde817",
   "metadata": {},
   "outputs": [],
   "source": [
    "# Extract numeric year\n",
    "df['Year'] = df['Year'].str.extract(r'(\\d{4})')\n",
    "df['Year'] = pd.to_numeric(df['Year'], errors='coerce')"
   ]
  },
  {
   "cell_type": "code",
   "execution_count": 4,
   "id": "14838e5c-9c40-4f3e-b3f7-4d9a55ac04fd",
   "metadata": {},
   "outputs": [],
   "source": [
    "# Clean Duration\n",
    "df['Duration'] = df['Duration'].str.replace('min', '', regex=False).str.strip()\n",
    "df['Duration'] = pd.to_numeric(df['Duration'], errors='coerce')"
   ]
  },
  {
   "cell_type": "code",
   "execution_count": 5,
   "id": "57d057f5-c258-4928-9dfe-9b1cba818bf0",
   "metadata": {},
   "outputs": [],
   "source": [
    "# Clean Votes\n",
    "df['Votes'] = df['Votes'].str.replace(',', '', regex=False)\n",
    "df['Votes'] = pd.to_numeric(df['Votes'], errors='coerce')"
   ]
  },
  {
   "cell_type": "code",
   "execution_count": 6,
   "id": "32fbbc28-6678-418c-b2a0-9b1dec3d9037",
   "metadata": {},
   "outputs": [],
   "source": [
    "# Drop rows with missing target (Rating)\n",
    "df = df[df['Rating'].notnull()]"
   ]
  },
  {
   "cell_type": "code",
   "execution_count": 7,
   "id": "31dafb8a-77ee-432d-b404-9f389bdc8a76",
   "metadata": {},
   "outputs": [
    {
     "data": {
      "text/plain": [
       "<bound method DataFrame.dropna of                                      Name    Year  Duration  \\\n",
       "1      #Gadhvi (He thought he was Gandhi)  2019.0     109.0   \n",
       "3                                 #Yaaram  2019.0     110.0   \n",
       "5                    ...Aur Pyaar Ho Gaya  1997.0     147.0   \n",
       "6                               ...Yahaan  2005.0     142.0   \n",
       "8                      ?: A Question Mark  2012.0      82.0   \n",
       "...                                   ...     ...       ...   \n",
       "15501                     Zulm Ki Hukumat  1992.0       NaN   \n",
       "15503                     Zulm Ki Zanjeer  1989.0     125.0   \n",
       "15504                 Zulm Ko Jala Doonga  1988.0       NaN   \n",
       "15505                               Zulmi  1999.0     129.0   \n",
       "15508                        Zulm-O-Sitam  1998.0     130.0   \n",
       "\n",
       "                           Genre  Rating   Votes           Director  \\\n",
       "1                          Drama     7.0     8.0      Gaurav Bakshi   \n",
       "3                Comedy, Romance     4.4    35.0         Ovais Khan   \n",
       "5         Comedy, Drama, Musical     4.7   827.0       Rahul Rawail   \n",
       "6            Drama, Romance, War     7.4  1086.0     Shoojit Sircar   \n",
       "8      Horror, Mystery, Thriller     5.6   326.0      Allyson Patel   \n",
       "...                          ...     ...     ...                ...   \n",
       "15501       Action, Crime, Drama     5.3   135.0  Bharat Rangachary   \n",
       "15503       Action, Crime, Drama     5.8    44.0    S.P. Muthuraman   \n",
       "15504                     Action     4.6    11.0      Mahendra Shah   \n",
       "15505              Action, Drama     4.5   655.0         Kuku Kohli   \n",
       "15508              Action, Drama     6.2    20.0       K.C. Bokadia   \n",
       "\n",
       "                Actor 1                 Actor 2          Actor 3  \n",
       "1          Rasika Dugal          Vivek Ghamande    Arvind Jangid  \n",
       "3               Prateik              Ishita Raj  Siddhant Kapoor  \n",
       "5            Bobby Deol  Aishwarya Rai Bachchan    Shammi Kapoor  \n",
       "6       Jimmy Sheirgill          Minissha Lamba   Yashpal Sharma  \n",
       "8             Yash Dave          Muntazir Ahmad     Kiran Bhatia  \n",
       "...                 ...                     ...              ...  \n",
       "15501        Dharmendra     Moushumi Chatterjee          Govinda  \n",
       "15503       Chiranjeevi              Jayamalini      Rajinikanth  \n",
       "15504  Naseeruddin Shah           Sumeet Saigal    Suparna Anand  \n",
       "15505      Akshay Kumar          Twinkle Khanna      Aruna Irani  \n",
       "15508        Dharmendra              Jaya Prada      Arjun Sarja  \n",
       "\n",
       "[7919 rows x 10 columns]>"
      ]
     },
     "execution_count": 7,
     "metadata": {},
     "output_type": "execute_result"
    }
   ],
   "source": [
    "df.dropna"
   ]
  },
  {
   "cell_type": "code",
   "execution_count": null,
   "id": "ede48911-b168-43b0-b7fc-453ebdaf5b8d",
   "metadata": {},
   "outputs": [],
   "source": []
  }
 ],
 "metadata": {
  "kernelspec": {
   "display_name": "Python 3 (ipykernel)",
   "language": "python",
   "name": "python3"
  },
  "language_info": {
   "codemirror_mode": {
    "name": "ipython",
    "version": 3
   },
   "file_extension": ".py",
   "mimetype": "text/x-python",
   "name": "python",
   "nbconvert_exporter": "python",
   "pygments_lexer": "ipython3",
   "version": "3.12.1"
  }
 },
 "nbformat": 4,
 "nbformat_minor": 5
}
